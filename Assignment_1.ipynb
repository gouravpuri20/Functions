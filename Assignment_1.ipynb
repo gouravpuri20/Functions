{
  "nbformat": 4,
  "nbformat_minor": 0,
  "metadata": {
    "colab": {
      "provenance": []
    },
    "kernelspec": {
      "name": "python3",
      "display_name": "Python 3"
    },
    "language_info": {
      "name": "python"
    }
  },
  "cells": [
    {
      "cell_type": "code",
      "source": [],
      "metadata": {
        "id": "_PSvW-h6qeih"
      },
      "execution_count": null,
      "outputs": []
    },
    {
      "cell_type": "markdown",
      "source": [],
      "metadata": {
        "id": "Y11kSgtTqgr3"
      }
    },
    {
      "cell_type": "markdown",
      "source": [
        "1. What is Python, and why is it popular?\n",
        "-  Python is a high-level, general-purpose programming  language known for its readability and versatility. It's widely used in various fields like web development, data science, machine learning, and automation. It's popularity stems from its simple syntax, extensive libraries, and ability to be easily learned by beginners.\n",
        "\n",
        "2. What is an interpreter in Python?\n",
        "- A Python interpreter is a program thatreads Python code and executes it lineby line. It translates the Python code into machine-readable bytecode, which is then executed by the Python Virtual Machine (PVM).\n",
        "\n",
        "3. What are pre defined keywords in Python?\n",
        "-  Python Keywords are some predefined and reserved words in Python that have special meanings. They are essential for defining the syntax and structure of the coding. The keyword cannot be used as an identifier, function, or variable name.All the keywords in Python are written in lowercase except True and False.\n",
        "\n",
        "4. Can keywords be used as variable names?\n",
        "-  Keywords cannot be used as variable names in Python. Keywords are reserved words that have predefined meanings and purposes in the language, and attempting to use them as variable names will result in a syntax error.\n",
        "\n",
        "5. What is mutability in python?\n",
        "-  Mutability in Python refers to the ability of an object to be modified after it's created. If an object is mutable, its state or value can be changed in place, without creating a new object.\n",
        "\n",
        "6. Why are lists mutable,  but tuples are immutable?\n",
        "-  Tuples and lists are the same in every way except two: tuples use parentheses instead of square brackets, and the items in tuples cannot be modified (but the items in lists can be modified). We often call lists mutable (meaning they can be changed) and tuples immutable (meaning they cannot be changed)\n",
        "\n",
        "7. What is the difference between “==” and “is” operators in Python?\n",
        "-  The '==' is known as the equality operator. The 'is' is known as the identity operator.\n",
        "\"==\" (Equality Operator): It compares the values of two objects. If the values are the same, it returns True; otherwise, it returns False.\n",
        "\"is\" (Identity Operator): It checks if two variables refer to the same object in memory. If they do, it returns True; otherwise, it returns False.\n",
        "\n",
        "8. What are logical operators in Python?\n",
        "-  Logical operators in Python are used to combine or modify boolean expressions (True or False). There are three main logical operators:\n",
        "and: Returns True if both operands are True, otherwise it returns False.\n",
        "or: Returns True if at least one operand is True, otherwise it returns False.\n",
        "not: Returns True if the operand is False, and False if the operand is True. It reverses the boolean value of the operand.\n",
        "\n",
        "9. What is type casting in Python?\n",
        "-  Type casting in Python is the process of converting a variable from one data type to another. It is useful when you need to perform operations that require specific data types or when you want to represent data in a different format.\n",
        "\n",
        "10. What is the difference between implicit and explicit type casting?\n",
        "-   Implicit type casting happens automatically by the compiler, while explicit type casting requires the programmer to define the conversion using specific syntax.\n",
        "\n",
        "11. What is the purpose of conditional statements in Python?\n",
        "- Conditional statements in Python enable programs to make decisions and execute different code blocks based on whether certain conditions are met. They control the flow of execution, allowing programs to adapt to various situations and inputs. The primary conditional statements in Python are if, elif, and else.\n",
        "\n",
        "12. How does the elif statement work?\n",
        "-   The elif statement in Python allows for multiple conditions to be checked sequentially. It is short for \"else if\" and provides an alternative to using nested if statements. The elif statement is executed only if the preceding if or elif conditions are false. If an elif condition is true, its corresponding block of code is executed, and the remaining elif and else blocks are skipped.\n",
        "\n",
        "13. What is the difference between for and while loops?\n",
        "-      The main difference between for and while loops lies in when the number of iterations is known beforehand. for loops are used when the number of iterations is known or can be easily determined at the beginning of the loop, while while loops are used when the number of iterations is dependent on a dynamic condition and is not known in advance.\n",
        "\n",
        "14. Describe a scenario where a while loop is more suitable than a for loop?\n",
        "-   When you need to iterate until a certain condition is met, but the number of iterations is not known beforehand.\n",
        "When you need to iterate a specific number of times.\n",
        "When you need to iterate in reverse order."
      ],
      "metadata": {
        "id": "4uQNEVLpjCJk"
      }
    },
    {
      "cell_type": "code",
      "source": [
        "\n",
        "\"\"\"\n",
        "Write a python program to print \"Hello world! \"\n",
        "\"\"\"\n",
        "print(\"Hello world!\")"
      ],
      "metadata": {
        "id": "XnCERR1J22wU",
        "colab": {
          "base_uri": "https://localhost:8080/"
        },
        "outputId": "d4349a71-f932-4387-dd75-680d86038b15"
      },
      "execution_count": null,
      "outputs": [
        {
          "output_type": "stream",
          "name": "stdout",
          "text": [
            "Hello world!\n"
          ]
        }
      ]
    },
    {
      "cell_type": "code",
      "source": [
        "\n",
        "\"\"\"\n",
        "Write a python program to display your name and age\n",
        "\"\"\"\n",
        "name = \"Gourav\"\n",
        "age = 30\n",
        "print (\"My name is\", name)\n",
        "print(\"Age:\", age)"
      ],
      "metadata": {
        "id": "feAWR_FTd4I0",
        "colab": {
          "base_uri": "https://localhost:8080/"
        },
        "outputId": "4cabd28e-ff03-4e80-a65e-ccfcf5a1f781"
      },
      "execution_count": null,
      "outputs": [
        {
          "output_type": "stream",
          "name": "stdout",
          "text": [
            "My name is Gourav\n",
            "Age: 30\n"
          ]
        }
      ]
    },
    {
      "cell_type": "code",
      "source": [
        "\n",
        "\"\"\"\n",
        "Write code to print all the pre-defined keywords in Python using the keyword library\n",
        "\"\"\"\n",
        "import keyword\n",
        "print(\"Python keywords are:\")\n",
        "print(keyword.kwlist)"
      ],
      "metadata": {
        "id": "Ge8sUGr5qWjp",
        "colab": {
          "base_uri": "https://localhost:8080/"
        },
        "outputId": "d8b5a9aa-7daa-42ef-ca69-569162f66edd"
      },
      "execution_count": null,
      "outputs": [
        {
          "output_type": "stream",
          "name": "stdout",
          "text": [
            "Python keywords are:\n",
            "['False', 'None', 'True', 'and', 'as', 'assert', 'async', 'await', 'break', 'class', 'continue', 'def', 'del', 'elif', 'else', 'except', 'finally', 'for', 'from', 'global', 'if', 'import', 'in', 'is', 'lambda', 'nonlocal', 'not', 'or', 'pass', 'raise', 'return', 'try', 'while', 'with', 'yield']\n"
          ]
        }
      ]
    },
    {
      "cell_type": "code",
      "execution_count": null,
      "metadata": {
        "id": "pdJjvsKGiT3Z",
        "colab": {
          "base_uri": "https://localhost:8080/"
        },
        "outputId": "584a8a26-c4d5-4187-ad33-1f0a7d480f39"
      },
      "outputs": [
        {
          "output_type": "stream",
          "name": "stdout",
          "text": [
            "'for' is a Python keyword: True\n",
            "'hello' is a Python keyword: False\n"
          ]
        }
      ],
      "source": [
        "\"\"\"\n",
        "Write a program that checks if a given word is a Python keyword\n",
        "\"\"\"\n",
        "import keyword\n",
        "\n",
        "def is_python_keyword(word):\n",
        "  \"\"\"Checks if a given word is a Python keyword.\n",
        "\n",
        "  Args:\n",
        "    word: The word to check.\n",
        "\n",
        "  Returns:\n",
        "    True if the word is a keyword, False otherwise.\n",
        "  \"\"\"\n",
        "  return keyword.iskeyword(word)\n",
        "\n",
        "# Example usage\n",
        "word1 = \"for\"\n",
        "word2 = \"hello\"\n",
        "\n",
        "print(f\"'{word1}' is a Python keyword: {is_python_keyword(word1)}\")\n",
        "print(f\"'{word2}' is a Python keyword: {is_python_keyword(word2)}\")"
      ]
    },
    {
      "cell_type": "code",
      "source": [
        "\"\"\"Create a list and tuple in Python, and demonstrate how attempting to change an element works differently\n",
        "for each?\n",
        "\"\"\"\n",
        "\n",
        "# Create a list\n",
        "my_list = [1, 2, 3]\n",
        "print(\"Original list:\", my_list)\n",
        "\n",
        "# Modify an element in the list\n",
        "my_list[1] = 10\n",
        "print(\"Modified list:\", my_list)\n",
        "\n",
        "# Create a tuple\n",
        "my_tuple = (4, 5, 6)\n",
        "print(\"Original tuple:\", my_tuple)\n",
        "\n",
        "# Attempt to modify an element in the tuple\n",
        "try:\n",
        "    my_tuple[1] = 20\n",
        "except TypeError as e:\n",
        "    print(\"Error:\", e)"
      ],
      "metadata": {
        "colab": {
          "base_uri": "https://localhost:8080/"
        },
        "id": "ukpqy3dFhD6o",
        "outputId": "03281470-1397-4de9-bf01-3acff2e8a15b"
      },
      "execution_count": null,
      "outputs": [
        {
          "output_type": "stream",
          "name": "stdout",
          "text": [
            "Original list: [1, 2, 3]\n",
            "Modified list: [1, 10, 3]\n",
            "Original tuple: (4, 5, 6)\n",
            "Error: 'tuple' object does not support item assignment\n"
          ]
        }
      ]
    },
    {
      "cell_type": "code",
      "source": [
        "\"\"\"\n",
        "Write a function to demonstrate the behavior of mutable and immutable arguments?\n",
        "\"\"\"\n",
        "def modify_list(my_list, element, immutable_value):\n",
        "    \"\"\"\n",
        "    Demonstrates the behavior of mutable and immutable arguments in a function.\n",
        "\n",
        "    Args:\n",
        "        my_list (list): A mutable list to be modified.\n",
        "        element: An element to be appended to the list.\n",
        "        immutable_value (int): An immutable integer.\n",
        "    \"\"\"\n",
        "    my_list.append(element)\n",
        "    immutable_value += 10\n",
        "    print(f\"Inside the function: list = {my_list}, immutable_value = {immutable_value}\")\n",
        "\n",
        "# Example usage\n",
        "original_list = [1, 2, 3]\n",
        "original_immutable = 5\n",
        "\n",
        "print(f\"Before function call: list = {original_list}, immutable_value = {original_immutable}\")\n",
        "modify_list(original_list, 4, original_immutable)\n",
        "print(f\"After function call: list = {original_list}, immutable_value = {original_immutable}\")"
      ],
      "metadata": {
        "id": "i3RqVV5ziGDr",
        "colab": {
          "base_uri": "https://localhost:8080/"
        },
        "outputId": "699fe9c0-ceac-4cdf-b484-fa5c01f7e485"
      },
      "execution_count": null,
      "outputs": [
        {
          "output_type": "stream",
          "name": "stdout",
          "text": [
            "Before function call: list = [1, 2, 3], immutable_value = 5\n",
            "Inside the function: list = [1, 2, 3, 4], immutable_value = 15\n",
            "After function call: list = [1, 2, 3, 4], immutable_value = 5\n"
          ]
        }
      ]
    },
    {
      "cell_type": "markdown",
      "source": [],
      "metadata": {
        "id": "75VYDpVVoniH"
      }
    },
    {
      "cell_type": "code",
      "source": [
        "\"\"\"\n",
        "Write a program that performs basic arithmetic operations on two user-input numbers.\n",
        "\"\"\"\n",
        "# Get input from the user\n",
        "num1 = float(input(\"Enter the first number: \"))\n",
        "num2 = float(input(\"Enter the second number: \"))\n",
        "\n",
        "# Perform arithmetic operations\n",
        "addition = num1 + num2\n",
        "subtraction = num1 - num2\n",
        "multiplication = num1 * num2\n",
        "division = num1 / num2\n",
        "floor_division = num1 // num2\n",
        "modulus = num1 % num2\n",
        "exponentiation = num1 ** num2\n",
        "\n",
        "# Print the results\n",
        "print(\"Addition:\", addition)\n",
        "print(\"Subtraction:\", subtraction)\n",
        "print(\"Multiplication:\", multiplication)\n",
        "print(\"Division:\", division)\n",
        "print(\"Floor Division:\", floor_division)\n",
        "print(\"Modulus:\", modulus)\n",
        "print(\"Exponentiation:\", exponentiation)"
      ],
      "metadata": {
        "colab": {
          "base_uri": "https://localhost:8080/"
        },
        "id": "gYf60dLcnn1C",
        "outputId": "c963539b-1fb9-48fc-8cf1-29289ac79ae5"
      },
      "execution_count": null,
      "outputs": [
        {
          "output_type": "stream",
          "name": "stdout",
          "text": [
            "Enter the first number: 1\n",
            "Enter the second number: 5\n",
            "Addition: 6.0\n",
            "Subtraction: -4.0\n",
            "Multiplication: 5.0\n",
            "Division: 0.2\n",
            "Floor Division: 0.0\n",
            "Modulus: 1.0\n",
            "Exponentiation: 1.0\n"
          ]
        }
      ]
    },
    {
      "cell_type": "markdown",
      "source": [],
      "metadata": {
        "id": "XOBI2XLXofWo"
      }
    },
    {
      "cell_type": "code",
      "source": [
        "\"\"\"\n",
        "Write a program to demonstrate the use of logical operators.\n",
        "\"\"\"\n",
        "# Example: Logical Operators (AND, OR, NOT) with generic variables\n",
        "a, b, c = True, False, True\n",
        "\n",
        "# AND: Both conditions must be True\n",
        "if a and c:\n",
        "    print(\"Both a and c are True (AND condition).\")\n",
        "\n",
        "# OR: At least one condition must be True\n",
        "if b or c:\n",
        "    print(\"Either b or c is True (OR condition).\")\n",
        "\n",
        "# NOT: Reverses the condition\n",
        "if not b:\n",
        "    print(\"b is False (NOT condition).\")"
      ],
      "metadata": {
        "colab": {
          "base_uri": "https://localhost:8080/"
        },
        "id": "M-j-TMloonDa",
        "outputId": "2e64ca03-b7e4-4016-ba9e-04526b74f484"
      },
      "execution_count": null,
      "outputs": [
        {
          "output_type": "stream",
          "name": "stdout",
          "text": [
            "Both a and c are True (AND condition).\n",
            "Either b or c is True (OR condition).\n",
            "b is False (NOT condition).\n"
          ]
        }
      ]
    },
    {
      "cell_type": "markdown",
      "source": [],
      "metadata": {
        "id": "voVpPwqsiYWl"
      }
    },
    {
      "cell_type": "code",
      "source": [
        "\n",
        "\"\"\"\n",
        "Write a Python program to convert user input from string to integer, float, and boolean types.\n",
        "\"\"\"\n",
        "def convert_input():\n",
        "    user_input = input(\"Enter a value: \")\n",
        "\n",
        "    try:\n",
        "        # Attempt to convert to integer\n",
        "        integer_value = int(user_input)\n",
        "        print(f\"Integer: {integer_value}, Type: {type(integer_value)}\")\n",
        "    except ValueError:\n",
        "        print(\"Not an integer.\")\n",
        "\n",
        "    try:\n",
        "        # Attempt to convert to float\n",
        "        float_value = float(user_input)\n",
        "        print(f\"Float: {float_value}, Type: {type(float_value)}\")\n",
        "    except ValueError:\n",
        "        print(\"Not a float.\")\n",
        "\n",
        "    # Attempt to convert to boolean\n",
        "    # Using a simple check for common string representations of True/False\n",
        "    if user_input.lower() in [\"true\", \"yes\", \"1\"]:\n",
        "        boolean_value = True\n",
        "    elif user_input.lower() in [\"false\", \"no\", \"0\"]:\n",
        "        boolean_value = False\n",
        "    else:\n",
        "        boolean_value = bool(user_input) # Default boolean conversion\n",
        "    print(f\"Boolean: {boolean_value}, Type: {type(boolean_value)}\")\n",
        "\n",
        "\n",
        "if __name__ == \"__main__\":\n",
        "    convert_input()"
      ],
      "metadata": {
        "colab": {
          "base_uri": "https://localhost:8080/"
        },
        "id": "GL5Xl9gqo4rX",
        "outputId": "b47e2de7-802b-4b47-aaeb-55ee28850a76"
      },
      "execution_count": null,
      "outputs": [
        {
          "output_type": "stream",
          "name": "stdout",
          "text": [
            "Enter a value: 5\n",
            "Integer: 5, Type: <class 'int'>\n",
            "Float: 5.0, Type: <class 'float'>\n",
            "Boolean: True, Type: <class 'bool'>\n"
          ]
        }
      ]
    },
    {
      "cell_type": "markdown",
      "source": [],
      "metadata": {
        "id": "24Q4i-3ei7Cs"
      }
    },
    {
      "cell_type": "code",
      "source": [
        "\"\"\"\n",
        "Write code to demonstrate type casting with list elements.\n",
        "\"\"\"\n",
        "my_list = [1, 2.5, \"3\", True]\n",
        "\n",
        "# Convert each element to an integer\n",
        "int_list = [int(x) for x in my_list]\n",
        "print(\"Integer list:\", int_list)\n",
        "\n",
        "# Convert each element to a float\n",
        "float_list = [float(x) for x in my_list]\n",
        "print(\"Float list:\", float_list)\n",
        "\n",
        "# Convert each element to a string\n",
        "str_list = [str(x) for x in my_list]\n",
        "print(\"String list:\", str_list)\n",
        "\n",
        "# Convert each element to a boolean\n",
        "bool_list = [bool(x) for x in my_list]\n",
        "print(\"Boolean list:\", bool_list)\n",
        "\n",
        "# Trying to convert string that is not a number to integer will raise error\n",
        "my_list_with_invalid_string = [1, 2.5, \"invalid\", True]\n",
        "try:\n",
        "    int_list_invalid = [int(x) for x in my_list_with_invalid_string]\n",
        "except ValueError as e:\n",
        "    print(f\"Error: {e}\")"
      ],
      "metadata": {
        "colab": {
          "base_uri": "https://localhost:8080/"
        },
        "id": "QORDrPAKp_Py",
        "outputId": "93ce5070-31ca-48cc-85e2-d5fb4da4fbb3"
      },
      "execution_count": null,
      "outputs": [
        {
          "output_type": "stream",
          "name": "stdout",
          "text": [
            "Integer list: [1, 2, 3, 1]\n",
            "Float list: [1.0, 2.5, 3.0, 1.0]\n",
            "String list: ['1', '2.5', '3', 'True']\n",
            "Boolean list: [True, True, True, True]\n",
            "Error: invalid literal for int() with base 10: 'invalid'\n"
          ]
        }
      ]
    },
    {
      "cell_type": "code",
      "source": [
        "\"\"\"\n",
        "Write a program that checks if a number is positive, negative, or zero.\n",
        "\"\"\"\n",
        "num = float(input(\"Enter a number: \"))\n",
        "if num > 0:\n",
        "   print(\"Positive number\")\n",
        "elif num == 0:\n",
        "   print(\"Zero\")\n",
        "else:\n",
        "   print(\"Negative number\")"
      ],
      "metadata": {
        "colab": {
          "base_uri": "https://localhost:8080/"
        },
        "id": "mnSH7TL7p886",
        "outputId": "fade26ad-79fc-4fd2-b1ef-614d4183568b"
      },
      "execution_count": null,
      "outputs": [
        {
          "output_type": "stream",
          "name": "stdout",
          "text": [
            "Enter a number: 8\n",
            "Positive number\n"
          ]
        }
      ]
    },
    {
      "cell_type": "code",
      "source": [
        "\"\"\"\n",
        "Write a for loop\n",
        "to print numbers from 1 to 10.\n",
        "\"\"\"\n",
        "for i in range(1, 11):\n",
        "    print(i)"
      ],
      "metadata": {
        "colab": {
          "base_uri": "https://localhost:8080/"
        },
        "id": "ooFc_njfp5V5",
        "outputId": "283c7da4-2790-432c-fa2a-ba9962b88b88"
      },
      "execution_count": null,
      "outputs": [
        {
          "output_type": "stream",
          "name": "stdout",
          "text": [
            "1\n",
            "2\n",
            "3\n",
            "4\n",
            "5\n",
            "6\n",
            "7\n",
            "8\n",
            "9\n",
            "10\n"
          ]
        }
      ]
    },
    {
      "cell_type": "code",
      "source": [
        "\n",
        "\"\"\"\n",
        "Write a Python program to find the sum of all even numbers between 1 and 50.\n",
        "\"\"\"\n",
        "total = 0\n",
        "for number in range(2, 51, 2):\n",
        "    total += number\n",
        "print(total)"
      ],
      "metadata": {
        "colab": {
          "base_uri": "https://localhost:8080/"
        },
        "id": "-Om7Gt6Zrhwi",
        "outputId": "d844842f-48c7-44bd-e149-2856e79d1204"
      },
      "execution_count": null,
      "outputs": [
        {
          "output_type": "stream",
          "name": "stdout",
          "text": [
            "650\n"
          ]
        }
      ]
    },
    {
      "cell_type": "code",
      "source": [
        "\"\"\"\n",
        "Write a program to reverse a string using a while loop.\n",
        "\"\"\"\n",
        "def reverse_string(s):\n",
        "    reversed_s = \"\"\n",
        "    length = len(s) - 1\n",
        "    while length >= 0:\n",
        "        reversed_s += s[length]\n",
        "        length -= 1\n",
        "    return reversed_s\n",
        "\n",
        "input_string = \"Hello World\"\n",
        "reversed_string = reverse_string(input_string)\n",
        "print(\"Original String:\", input_string)\n",
        "print(\"Reversed String:\", reversed_string)"
      ],
      "metadata": {
        "colab": {
          "base_uri": "https://localhost:8080/"
        },
        "id": "mXknkVSNrszK",
        "outputId": "8259cd7b-084f-4fa5-b603-e892bf50fa22"
      },
      "execution_count": null,
      "outputs": [
        {
          "output_type": "stream",
          "name": "stdout",
          "text": [
            "Original String: Hello World\n",
            "Reversed String: dlroW olleH\n"
          ]
        }
      ]
    },
    {
      "cell_type": "code",
      "source": [
        "\"\"\"\n",
        "Write a Python program to calculate the factorial of a number provided by the user using a while loop.\n",
        "\"\"\"\n",
        "# accept input number from user\n",
        "n = int(input(\"Enter any number: \"))\n",
        "\n",
        "# logic to calculate the factorial of a number\n",
        "f = 1\n",
        "while n >= 1:\n",
        "    f *= n\n",
        "    n -= 1\n",
        "\n",
        "# print output\n",
        "print(\"Factorial is\", f)"
      ],
      "metadata": {
        "colab": {
          "base_uri": "https://localhost:8080/"
        },
        "id": "2w8Xawj4soEK",
        "outputId": "8a6198f7-934c-45d8-ec6f-26e838778d83"
      },
      "execution_count": null,
      "outputs": [
        {
          "output_type": "stream",
          "name": "stdout",
          "text": [
            "Enter any number: 6\n",
            "Factorial is 720\n"
          ]
        }
      ]
    },
    {
      "cell_type": "code",
      "source": [],
      "metadata": {
        "id": "Fn1OrbsArtMh"
      },
      "execution_count": null,
      "outputs": []
    }
  ]
}