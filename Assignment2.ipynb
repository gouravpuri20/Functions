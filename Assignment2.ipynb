{
  "nbformat": 4,
  "nbformat_minor": 0,
  "metadata": {
    "colab": {
      "provenance": []
    },
    "kernelspec": {
      "name": "python3",
      "display_name": "Python 3"
    },
    "language_info": {
      "name": "python"
    }
  },
  "cells": [
    {
      "cell_type": "code",
      "source": [
        "# Functions"
      ],
      "metadata": {
        "id": "AQNdCVFzVXp5"
      },
      "execution_count": null,
      "outputs": []
    },
    {
      "cell_type": "markdown",
      "source": [
        "1. What are data structures, and why are they important?\n",
        "-  Data structures are fundamental to computer science, providing organized ways to store and manage data within a program. They are crucial for efficient data access, manipulation, and retrieval, impacting a program's performance, readability, and scalability.\n",
        "Importance of Data Structures :\n",
        "Efficient Data Management:\n",
        "Data structures optimize how data is organized and accessed, allowing programs to perform operations like searching, sorting, and updating data quickly and efficiently.\n",
        "Performance:\n",
        "Properly chosen data structures can dramatically improve the speed and efficiency of a program.\n",
        "Code Clarity and Readability:\n",
        "Well-structured data allows for easier understanding and maintenance of code.\n",
        "Scalability:\n",
        "Efficient data structures are crucial for handling large datasets and complex systems.\n",
        "Foundation for Algorithms:\n",
        "Many algorithms are built upon data structures, making them essential for developing efficient software.\n",
        "\n",
        "2. Explain the difference between mutable and immutable data types with examples?\n",
        "-  Mutable data types allow their values to be modified after creation, while immutable data types cannot be changed once created. If you try to change an immutable object, you'll typically get a new object with the modified value, rather than modifying the original.\n",
        "Some common examples of mutable data types are Lists, Dictionaries, Sets.\n",
        "Examples of Immutable data types are Strings,Tuples, Integers, Floats.\n",
        "\n",
        "3. What are the main differences between lists and tuples in Python?\n",
        "-  Lists and tuples are both used to store a sequence of items in Python, but they have key differences that affect how and when they are used.\n",
        "Mutability:\n",
        "Lists are mutable:\n",
        "This means you can change the contents of a list after it has been created. You can add, remove, or modify elements.\n",
        "Tuples are immutable:\n",
        "Once a tuple is created, its contents cannot be changed. You cannot add, remove, or modify elements.\n",
        "Syntax: Lists are defined using square brackets [], while tuples are defined using parentheses ().\n",
        "Memory: Tuples are generally more memory-efficient than lists because their size is fixed. Lists can dynamically grow or shrink, which requires additional memory overhead.\n",
        "Performance: Due to their immutability, tuples are typically faster than lists for accessing elements.\n",
        "Use Cases: Lists are suitable when you need to modify the sequence of items, such as managing a shopping cart or task list. Tuples are ideal for representing fixed collections of items, such as database records, coordinates, or configuration settings.\n",
        "\n",
        "4. Describe how dictionaries store data.\n",
        "-  Dictionaries in Python store data as key-value pairs. Each key is unique within a dictionary and is associated with a specific value. Keys must be immutable objects, such as strings, numbers, or tuples, while values can be of any data type, including lists, other dictionaries, or custom objects.\n",
        "Dictionaries are implemented using hash tables, which allow for efficient retrieval of values based on their corresponding keys. When a key is used to access a value, Python calculates a hash value for the key. This hash value is used to determine the index in the hash table where the value is stored. This process enables fast lookups, insertions, and deletions.\n",
        "\n",
        "5. Why might you use a set instead of a list in Python?\n",
        "-  Sets and lists are both used to store collections of items in Python, but they have key differences that make them suitable for different tasks. Here's why you might use a set instead of a list:\n",
        "1.Uniqueness: Sets only store unique elements. If you try to add a duplicate to a set, it will be ignored. Lists, on the other hand, allow duplicate values.\n",
        "2.Unordered: Sets are unordered collections, meaning the elements do not have a specific position or index. Lists are ordered, and elements can be accessed by their position (index).\n",
        "3.Membership Testing: Sets are optimized for fast membership testing. Checking if an element exists in a set is significantly faster than checking in a list, especially for large collections.\n",
        "4.Mathematical Set Operations: Sets provide built-in methods for performing mathematical set operations like union, intersection, difference, and subset. These operations are not directly available for lists.\n",
        "5.Removing Duplicates: Sets can be used to efficiently remove duplicate elements from a list. By converting a list to a set, you automatically eliminate duplicates.\n",
        "6.Immutability: Elements within a set must be immutable. This means you can't store lists or dictionaries directly in a set, but you can store immutable objects like numbers, strings, and tuples. While sets themselves are mutable, meaning you can add or remove elements.\n",
        "\n",
        "6.  What is a string in Python, and how is it different from a list?\n",
        "-  A string in Python is a sequence of characters, which can include letters, numbers, symbols, and whitespace. Strings are used to represent text data. They are immutable, meaning their content cannot be changed after creation.\n",
        "Strings can be enclosed in single quotes (' '), double quotes (\" \"), or triple quotes (''' ''' or \"\"\" \"\"\"). Triple quotes are often used for multiline strings or strings containing both single and double quotes.\n",
        "A string is a sequence of characters between single or double quotes. A list is a sequence of items, where each item could be anything (an integer, a float, a string, etc).\n",
        "Strings are immutable, which means you cannot change individual characters in a string. Unlike strings, lists are mutable, which means that their contents can be modified, without having to create a new list.\n",
        "\n",
        "7. How do tuples ensure data integrity in Python?\n",
        "-Tuples in Python ensure data integrity primarily through their immutability. Once a tuple is created, its elements cannot be modified, added, or removed. This characteristic prevents accidental or unintended changes to the data, ensuring that the tuple's contents remain constant throughout its lifecycle.\n",
        "Here's how immutability contributes to data integrity:\n",
        "Protection against accidental modification:\n",
        "Since tuples cannot be altered after creation, they are ideal for storing data that should not be changed, such as configuration settings, database connection details, or records that represent a fixed entity.\n",
        "Reliable dictionary keys:\n",
        "Because tuples are immutable, they can be used as keys in dictionaries. This is crucial because dictionary keys must be hashable, and mutable objects like lists cannot serve as keys.\n",
        "Data consistency:\n",
        "Immutability ensures that the data within a tuple remains consistent. This is particularly important in multithreaded environments, where multiple threads might access the same data. Using tuples prevents race conditions and ensures that all threads see the same, unchanging data.\n",
        "Performance advantages:\n",
        "Due to their immutability, tuples can be more memory-efficient and faster to access than mutable structures like lists. Python can optimize the storage and retrieval of tuples because it knows their contents won't change.\n",
        "\n",
        "8. What is a hash table, and how does it relate to dictionaries in Python?\n",
        "- A hash table is a data structure that stores key-value pairs. It uses a hash function to compute an index for each key, which determines where the corresponding value is stored in an array. This allows for fast average-time complexity of O(1) for lookups, insertions, and deletions.\n",
        "In Python, dictionaries are implemented using hash tables. The keys of a dictionary are hashed, and the resulting hash value is used to determine the position of the corresponding value in the underlying hash table. This is why dictionary keys must be hashable, meaning they have a fixed hash value that doesn't change during their lifetime. Examples of hashable types include strings, numbers, and tuples. Mutable types like lists are not hashable and can't be dictionary keys.\n",
        "The hash table implementation allows Python dictionaries to provide fast access to values based on their keys. In addition, Python dictionaries maintain the insertion order of elements since Python 3.7.\n",
        "\n",
        "9. Can lists contain different data types in Python?\n",
        "-  Yes, lists in Python can contain different data types. This means a single list can hold integers, strings, floats, booleans, and even other lists or dictionaries.\n",
        "\n",
        "10. Explain why strings are immutable in Python?\n",
        "-   In Python, strings are immutable, which means that once a string is created, its content cannot be altered. When a string operation appears to modify a string, it actually creates a new string object with the modified content, leaving the original string unchanged.\n",
        "Here are some key reasons why strings are immutable in Python:\n",
        "Efficiency:\n",
        "Immutability allows Python to optimize memory usage. Since strings cannot be changed, identical string literals can share the same memory location, reducing memory consumption and improving performance.\n",
        "Thread Safety:\n",
        "Immutable strings are inherently thread-safe. Since their values cannot be modified after creation, there is no risk of race conditions or data corruption when multiple threads access the same string.\n",
        "Hashability:\n",
        "Immutable strings are hashable, meaning they can be used as keys in dictionaries. This is because their values are guaranteed to remain constant throughout their lifetime.\n",
        "Predictability:\n",
        "Immutability makes code more predictable. You can rely on the fact that a string will not change unexpectedly, making it easier to reason about program behavior.\n",
        "\n",
        "11.  What advantages do dictionaries offer over lists for certain tasks?\n",
        "-    Dictionaries in Python offer several advantages over lists for specific tasks, primarily due to their structure and access methods:\n",
        "Key-Value Pairs:\n",
        "Dictionaries store data in key-value pairs, allowing you to access values using unique keys. Lists, on the other hand, store elements in an ordered sequence, accessed by numerical index. This makes dictionaries ideal for mapping relationships between items.\n",
        "Faster Lookups:\n",
        "Dictionaries use hash tables for data storage, enabling quick retrieval of values based on their keys. This lookup process is significantly faster than iterating through a list to find a specific element, especially for large datasets.\n",
        "Flexibility:\n",
        "Dictionaries can store values of any data type, and keys can be any immutable type (e.g., strings, numbers, tuples). Lists, while also flexible in value types, are limited to integer-based indexing.\n",
        "Dynamic Data Structure:\n",
        "Dictionaries are mutable, meaning you can add, update, or remove key-value pairs as needed, providing flexibility in managing data. Lists are also mutable, but dictionaries provide more efficient ways to manage named data.\n",
        "Data Association:\n",
        "Dictionaries are well-suited for tasks where you need to associate data with labels or identifiers. For example, storing user information, configurations, or mappings between items.\n",
        "\n",
        "12.  Describe a scenario where using a tuple would be preferable over a list.\n",
        "-    Tuples are generally preferred over lists in the following scenarios:\n",
        "Immutability: Tuples are immutable, meaning their contents cannot be changed after creation. This makes them suitable for representing fixed collections of items where you want to ensure that the data remains constant. For example, using a tuple to represent coordinates (x, y) ensures that these values cannot be altered accidentally.Performance: Tuples can be more memory-efficient and faster than lists for certain operations since they have a smaller memory overhead due to their immutability. If you need a collection of items that doesn’t change, using a tuple can lead to better performance.Hashability: Tuples can be used as keys in dictionaries or elements in sets because they are hashable (as long as their elements are hashable). Lists, on the other hand, cannot be used in these contexts due to their mutability.Semantic Meaning: When the data represents a fixed structure or a record, tuples can provide clearer semantics. For example, using a tuple to represent a database record (like (id, name, age)) can convey that the data structure is intended to be a fixed, non-changing set of values.Multiple Return Values: Tuples are commonly used to return multiple values from a function. This makes it clear that the function is returning a fixed number of related values.\n",
        "\n",
        "13.  How do sets handle duplicate values in Python?\n",
        "-    Python sets are designed to store only unique elements. When you attempt to add a duplicate value to a set, it will be automatically ignored, and the set will remain unchanged. This behavior is a core characteristic of sets, ensuring that each element within the set is distinct.\n",
        "Here's how it works:\n",
        "Uniqueness Enforcement:\n",
        "Sets inherently enforce uniqueness. When you try to add an element that already exists, the set doesn't add it again.\n",
        "Automatic Removal:\n",
        "If you create a set from an iterable containing duplicate values, the duplicates will be automatically removed during the set creation process.\n",
        "No Modification:\n",
        "Once a set is created, any attempt to add a duplicate element will not modify the set. The set will remain the same.\n",
        "\n",
        "14.  How does the “in” keyword work differently for lists and dictionaries python?\n",
        "- The in keyword  is used to check for membership within a sequence or collection. However, it operates differently for lists and dictionaries due to their underlying structures and how they store data.\n",
        "Lists:\n",
        "When used with a list, the in keyword performs a linear search. It iterates through each element of the list sequentially, comparing it to the value being searched for.The search continues until either a match is found or the end of the list is reached.The time complexity of this operation is O(n), where n is the number of elements in the list. This means that the search time increases proportionally with the size of the list.\n",
        "Dictionaries:\n",
        "Dictionaries are implemented as hash tables. This means that they store key-value pairs in such a way that allows for fast lookups based on the key.\n",
        "When used with a dictionary, the in keyword checks for the presence of a key in the dictionary. It does not search through the values.\n",
        "The in keyword operation on a dictionary has an average time complexity of O(1), meaning that the search time is constant regardless of the size of the dictionary. This is due to the hashing algorithm used to locate the keys.\n",
        "The in keyword checks for keys by default. To check for values, you can use the dict.values() method and in keyword together.\n",
        "in keyword does not call the keys() function every time. Instead, it's more like __contains__, which is O(1) (i.e., cheap).\n",
        "\n",
        "15.  Can you modify the elements of a tuple? Explain why or why not.\n",
        "-  No, you cannot directly modify the elements of a tuple in Python. Tuples are immutable, meaning their contents cannot be changed after creation. This is a key difference between tuples and lists, which are mutable. If you need a data structure that allows modification, a list should be used instead.\n",
        "Explanation:\n",
        "Immutability:\n",
        "Tuples are designed to be immutable, which means once created, the elements within the tuple cannot be altered.\n",
        "Why Tuples are Immutable:\n",
        "Immutability offers several benefits, including increased efficiency and the ability to use tuples as keys in dictionaries (since dictionary keys must be immutable).\n",
        "Modifying a Tuple:\n",
        "Attempting to modify a tuple will raise a TypeError. For example, trying to assign a new value to a tuple element will result in an error.\n",
        "Using Lists:\n",
        "If you need to modify a sequence of values, lists should be used instead of tuples. Lists are mutable, allowing you to add, remove, or modify elements after they are created.\n",
        "\n",
        "16.  What is a nested dictionary, and give an example of its use case?\n",
        "- A nested dictionary is a dictionary where the value of one or more keys is another dictionary. It's essentially a dictionary within a dictionary, allowing for more complex data structures and organization. A common use case is representing hierarchical data like an employee directory with each employee having their own dictionary of details.\n",
        "Example:-\n",
        "# Nested dictionary representing employees in a company\n",
        "employees = {\n",
        "  \"department1\": {\n",
        "    \"emp1\": {\n",
        "      \"name\": \"Alice\",\n",
        "      \"title\": \"Software Engineer\",\n",
        "      \"salary\": 80000\n",
        "    },\n",
        "    \"emp2\": {\n",
        "      \"name\": \"Bob\",\n",
        "      \"title\": \"Project Manager\",\n",
        "      \"salary\": 100000\n",
        "    }\n",
        "  },\n",
        "  \"department2\": {\n",
        "    \"emp3\": {\n",
        "      \"name\": \"Charlie\",\n",
        "      \"title\": \"Data Scientist\",\n",
        "      \"salary\": 90000\n",
        "    }\n",
        "  }\n",
        "}\n",
        "\n",
        "# Accessing data within the nested dictionary\n",
        "print(employees[\"department1\"][\"emp1\"][\"name\"])  # Output: Alice\n",
        "print(employees[\"department2\"][\"emp3\"][\"title\"])  # Output: Data Scientist\n",
        "In this example, the outer dictionary employees maps department names (e.g., \"department1\") to inner dictionaries containing employee details. Each inner dictionary contains the employee's name, title, and salary. This structure allows you to easily organize and access data related to multiple departments and employees.\n",
        "\n",
        "17. Describe the time complexity of accessing elements in a dictionary.\n",
        "-   Accessing elements in a Python dictionary typically has an average time complexity of O(1), which is considered constant time. This means that the time it takes to access a value using its key does not significantly increase as the dictionary grows larger.\n",
        "This efficiency is achieved because dictionaries are implemented using hash tables. When you insert a key-value pair, the key is passed to a hash function, which generates a unique numeric value (hash value). This hash value is then used to determine the index of a \"bucket\" where the key-value pair will be stored. When you access the value using the key, the same hash function is applied to the key to find the bucket, and the value is retrieved from there. However, in the worst-case scenario, the time complexity can degrade to O(n), where n is the number of items in the dictionary. This occurs when there are many hash collisions. A hash collision happens when two or more keys produce the same hash value. In such cases, the dictionary must iterate through all the items in that specific bucket to find the correct key and its associated value.\n",
        "It's important to note that the worst-case scenario is rare. The Python dictionary implementation is designed to minimize collisions and maintain the average O(1) time complexity for most operations.\n",
        "\n",
        "18.  In what situations are lists preferred over dictionaries?\n",
        "-    If you need an ordered collection, like a sequence of user actions, lists are your go-to. when operations like appending and extending are frequently used.\n",
        "On the other hand, when you need quick look-ups, like mapping usernames to user data, dictionaries are invaluable.\n",
        "\n",
        "19.  Why are dictionaries considered unordered, and how does that affect data retrieval?\n",
        "-    A dictionary is termed an unordered collection of objects because dictionaries do not maintain any inherent order of the items based on when they were added. In older versions of Python (before 3.7), dictionaries did not preserve insertion order at all.\n",
        "\n",
        "20. Explain the difference between a list and a dictionary in terms of data retrieval\n",
        "-In terms of data retrieval, a dictionary offers significantly faster lookup of values based on unique keys compared to a list, which relies on numerical indices. Dictionaries, using a hash table, can find values associated with a key in an average of O(1) (constant) time, while lists, requiring sequential searching, have an average time complexity of O(n) (linear).\n",
        "Lists:\n",
        "Ordered:\n",
        "Elements are stored and accessed based on their position (index) in the sequence, starting from 0.\n",
        "Indexing:\n",
        "Elements are accessed using numerical indices (e.g., my_list to get the third element).\n",
        "Lookup Speed:\n",
        "Finding a specific element in a list requires iterating through it until the element is found, resulting in a potentially slow lookup, especially for large lists.\n",
        "Example:\n",
        "my_list = - To get 30, you'd use my_list.\n",
        "Dictionaries:\n",
        "Unordered:\n",
        "Elements are stored as key-value pairs, and the order of insertion is not guaranteed.\n",
        "Keys:\n",
        "Elements are accessed using unique keys, not indices. These keys can be of various data types.\n",
        "Lookup Speed:\n",
        "Dictionaries use a hash table to store key-value pairs, allowing for extremely fast lookups based on keys. The lookup time is typically O(1) on average.\n",
        "Example:\n",
        "my_dict = {\"name\": \"Alice\", \"age\": 30, \"city\": \"London\"} - To get \"Alice\", you'd use my_dict[\"name\"]."
      ],
      "metadata": {
        "id": "l_Uo_m4FVhUQ"
      }
    },
    {
      "cell_type": "code",
      "source": [
        "\"\"\"\n",
        "Write a code to create a string with your name and print it\n",
        "\"\"\"\n",
        "\n",
        "# create string type variables\n",
        "name = \"Gourav\"\n",
        "print(name)"
      ],
      "metadata": {
        "id": "cTPA_4K7Vnz2",
        "colab": {
          "base_uri": "https://localhost:8080/"
        },
        "outputId": "eb312fc3-47e9-4125-e14d-46bf765d2268"
      },
      "execution_count": null,
      "outputs": [
        {
          "output_type": "stream",
          "name": "stdout",
          "text": [
            "Gourav\n"
          ]
        }
      ]
    },
    {
      "cell_type": "code",
      "source": [
        "\"\"\"\n",
        "Write a code to find the length of the string \"Hello World\"\n",
        "\"\"\"\n",
        "input_string = \"hello world\"\n",
        "string_length = get_string_length(input_string)\n",
        "print(f\"The length of '{input_string}' is: {string_length}\")"
      ],
      "metadata": {
        "id": "ctaxeBWhVcDM",
        "colab": {
          "base_uri": "https://localhost:8080/"
        },
        "outputId": "ba9b8033-265e-4498-d459-5208182ae520"
      },
      "execution_count": null,
      "outputs": [
        {
          "output_type": "stream",
          "name": "stdout",
          "text": [
            "The length of 'hello world' is: 11\n"
          ]
        }
      ]
    },
    {
      "cell_type": "code",
      "source": [
        "\"\"\"Write a code to slice the first 3 characters from the string \"Python Programming\"\n",
        "\"\"\"\n",
        "string = \"Python Programming\"\n",
        "sliced_string = string[:3]\n",
        "print(sliced_string)"
      ],
      "metadata": {
        "id": "c--PLZaFZIzF",
        "colab": {
          "base_uri": "https://localhost:8080/"
        },
        "outputId": "5baec2c9-a797-496e-c6eb-02b494bd8883"
      },
      "execution_count": null,
      "outputs": [
        {
          "output_type": "stream",
          "name": "stdout",
          "text": [
            "Pyt\n"
          ]
        }
      ]
    },
    {
      "cell_type": "code",
      "source": [
        "\"\"\"\n",
        "Write a code to convert the string \"hello\" to uppercase\n",
        "\"\"\"\n",
        "text = \"hello\"\n",
        "uppercase_text = text.upper()\n",
        "print(uppercase_text) # Output: HELLO"
      ],
      "metadata": {
        "colab": {
          "base_uri": "https://localhost:8080/"
        },
        "id": "0kCs3u01dRJI",
        "outputId": "6263bec2-fa5b-48f7-fabc-cfefca7845be"
      },
      "execution_count": null,
      "outputs": [
        {
          "output_type": "stream",
          "name": "stdout",
          "text": [
            "HELLO\n"
          ]
        }
      ]
    },
    {
      "cell_type": "code",
      "source": [
        "\"\"\"\n",
        "Write a code to replace the word \"apple\" with \"orange\" in the string \"I like apple\"\n",
        "\"\"\"\n",
        "# Original string\n",
        "text = 'I like apples.'\n",
        "\n",
        "# Using replace() to change 'apples' to 'oranges'\n",
        "new_text = text.replace('apples', 'oranges')\n",
        "\n",
        "print(new_text)"
      ],
      "metadata": {
        "colab": {
          "base_uri": "https://localhost:8080/"
        },
        "id": "HSp7Ccc0d6Bs",
        "outputId": "bedbea2e-89d0-4ed3-b4a2-739b01f0822e"
      },
      "execution_count": null,
      "outputs": [
        {
          "output_type": "stream",
          "name": "stdout",
          "text": [
            "I like oranges.\n"
          ]
        }
      ]
    },
    {
      "cell_type": "code",
      "source": [
        "\"\"\"\n",
        "Write a code to create a list with numbers 1 to 5 and print it\n",
        "\"\"\"\n",
        "# Creating a list of numbers from 1 to 5\n",
        "numbers = []\n",
        "for i in range(1, 6):\n",
        "    numbers.append(i)\n",
        "print(numbers)"
      ],
      "metadata": {
        "colab": {
          "base_uri": "https://localhost:8080/"
        },
        "id": "PUUrXLK8iNal",
        "outputId": "fa2d112d-7227-42ec-8eb6-32c6a8c6e3ac"
      },
      "execution_count": null,
      "outputs": [
        {
          "output_type": "stream",
          "name": "stdout",
          "text": [
            "[1, 2, 3, 4, 5]\n"
          ]
        }
      ]
    },
    {
      "cell_type": "code",
      "source": [
        "\n",
        "\"\"\"\n",
        "Write a code to append the number 10 to the list [1, 2, 3, 4]\n",
        "\"\"\"\n",
        "my_list = [1, 2, 3, 4]\n",
        "my_list.append(10)\n",
        "print(my_list)"
      ],
      "metadata": {
        "colab": {
          "base_uri": "https://localhost:8080/"
        },
        "id": "foJROnpTjFUW",
        "outputId": "e499deeb-4e6e-4667-b628-d9cea262aa5e"
      },
      "execution_count": null,
      "outputs": [
        {
          "output_type": "stream",
          "name": "stdout",
          "text": [
            "[1, 2, 3, 4, 10]\n"
          ]
        }
      ]
    },
    {
      "cell_type": "code",
      "source": [
        "\"\"\"\n",
        "Write a code to remove the number 3 from the list [1, 2, 3, 4, 5]\n",
        "\"\"\"\n",
        "my_list = [1, 2, 3, 4, 5]\n",
        "my_list.remove(3)\n",
        "print(my_list)"
      ],
      "metadata": {
        "colab": {
          "base_uri": "https://localhost:8080/"
        },
        "id": "_hz7VyWvjtQm",
        "outputId": "5aeaf131-63da-4cb4-9596-5c6e8dfbd2ff"
      },
      "execution_count": null,
      "outputs": [
        {
          "output_type": "stream",
          "name": "stdout",
          "text": [
            "[1, 2, 4, 5]\n"
          ]
        }
      ]
    },
    {
      "cell_type": "code",
      "source": [
        "\"\"\"\n",
        "Write a code to access the second element in the list ['a', 'b', 'c', 'd']\n",
        "\"\"\"\n",
        "my_list = ['a', 'b', 'c', 'd']\n",
        "second_element = my_list[1]\n",
        "print(second_element)"
      ],
      "metadata": {
        "colab": {
          "base_uri": "https://localhost:8080/"
        },
        "id": "cKfEgdU1nMnO",
        "outputId": "0016abec-3e5e-413d-b161-adc34e49d95d"
      },
      "execution_count": null,
      "outputs": [
        {
          "output_type": "stream",
          "name": "stdout",
          "text": [
            "b\n"
          ]
        }
      ]
    },
    {
      "cell_type": "code",
      "source": [
        "\"\"\"\n",
        "Write a code to reverse the list [10, 20, 30, 40, 50].\n",
        "\"\"\"\n",
        "a = [10, 20, 30, 40, 50]\n",
        "a.reverse()\n",
        "print(a)"
      ],
      "metadata": {
        "colab": {
          "base_uri": "https://localhost:8080/"
        },
        "id": "y0ceDVNln7p_",
        "outputId": "9d1378db-6b48-4799-a7bd-96fb89d60fcd"
      },
      "execution_count": null,
      "outputs": [
        {
          "output_type": "stream",
          "name": "stdout",
          "text": [
            "[50, 40, 30, 20, 10]\n"
          ]
        }
      ]
    },
    {
      "cell_type": "code",
      "source": [
        "\n",
        "\"\"\"\n",
        "Write a code to create a tuple with the elements 100, 200, 300 and print it.\n",
        "\"\"\"\n",
        "my_tuple = (100, 200, 300)\n",
        "print(my_tuple)"
      ],
      "metadata": {
        "id": "getCX0-bmg-N",
        "colab": {
          "base_uri": "https://localhost:8080/"
        },
        "outputId": "e3005229-4e57-4716-c127-32a6f8673d3d"
      },
      "execution_count": null,
      "outputs": [
        {
          "output_type": "stream",
          "name": "stdout",
          "text": [
            "(100, 200, 300)\n"
          ]
        }
      ]
    },
    {
      "cell_type": "code",
      "source": [
        "\n",
        "\"\"\"\n",
        "Write a code to access the second-to-last element of the tuple ('red', 'green', 'blue', 'yellow').\n",
        "\"\"\"\n",
        "colors = ('red', 'green', 'blue', 'yellow')\n",
        "second_to_last = colors[-2]\n",
        "print(second_to_last)"
      ],
      "metadata": {
        "id": "tB-ooNovk-pu",
        "colab": {
          "base_uri": "https://localhost:8080/"
        },
        "outputId": "1aefb9ea-6192-4c49-d289-32db8e90f5a8"
      },
      "execution_count": null,
      "outputs": [
        {
          "output_type": "stream",
          "name": "stdout",
          "text": [
            "blue\n"
          ]
        }
      ]
    },
    {
      "cell_type": "code",
      "source": [
        "\"\"\"\n",
        "Write a code to find the minimum number in the tuple (10, 20, 5, 15).\n",
        "\"\"\"\n",
        "my_tuple = (10, 20, 5, 15)\n",
        "min_number = min(my_tuple)\n",
        "print(min_number)"
      ],
      "metadata": {
        "colab": {
          "base_uri": "https://localhost:8080/"
        },
        "id": "AmEaml8DBje0",
        "outputId": "27afe37d-9b2e-4d44-8ee7-5c623903a8d9"
      },
      "execution_count": null,
      "outputs": [
        {
          "output_type": "stream",
          "name": "stdout",
          "text": [
            "5\n"
          ]
        }
      ]
    },
    {
      "cell_type": "code",
      "source": [
        "\"\"\"\n",
        "Write a code to find the index of the element \"cat\" in the tuple ('dog', 'cat', 'rabbit').\n",
        "\"\"\"\n",
        "animals = ['dog', 'cat', 'rabbit']\n",
        "\n",
        "index = animals.index('cat')\n",
        "\n",
        "print(index)"
      ],
      "metadata": {
        "id": "eIgqeb9YDeaw",
        "colab": {
          "base_uri": "https://localhost:8080/"
        },
        "outputId": "8e6182d0-7756-48e3-92bc-f30978940c10"
      },
      "execution_count": null,
      "outputs": [
        {
          "output_type": "stream",
          "name": "stdout",
          "text": [
            "1\n"
          ]
        }
      ]
    },
    {
      "cell_type": "code",
      "source": [
        "\"\"\"\n",
        "Write a code to create a tuple containing three different fruits and check if \"kiwi\" is in it.\n",
        "\"\"\"\n",
        "thistuple = (\"apple\", \"kiwi\", \"cherry\")\n",
        "print(thistuple[1])"
      ],
      "metadata": {
        "colab": {
          "base_uri": "https://localhost:8080/"
        },
        "id": "kNMbGkFNFtoy",
        "outputId": "50cf5232-0d7b-49ed-b528-18e28d1bfe99"
      },
      "execution_count": null,
      "outputs": [
        {
          "output_type": "stream",
          "name": "stdout",
          "text": [
            "kiwi\n"
          ]
        }
      ]
    },
    {
      "cell_type": "code",
      "source": [
        "\"\"\"\n",
        "Write a code to create a set with the elements 'a', 'b', 'c' and print it.\n",
        "\"\"\"\n",
        "my_set = {'a', 'b', 'c'}\n",
        "print(my_set)"
      ],
      "metadata": {
        "colab": {
          "base_uri": "https://localhost:8080/"
        },
        "id": "LwCVDlphNF43",
        "outputId": "f05cbbaa-54fa-4ab5-86af-3afe30080ac7"
      },
      "execution_count": null,
      "outputs": [
        {
          "output_type": "stream",
          "name": "stdout",
          "text": [
            "{'a', 'b', 'c'}\n"
          ]
        }
      ]
    },
    {
      "cell_type": "code",
      "source": [
        "\n",
        "\"\"\"\n",
        "Write a code to clear all elements from the set {1, 2, 3, 4, 5}.\n",
        "\"\"\"\n",
        "my_set = {1, 2, 3, 4, 5}\n",
        "my_set.clear()\n",
        "print(my_set)"
      ],
      "metadata": {
        "colab": {
          "base_uri": "https://localhost:8080/"
        },
        "id": "RD86xSVyNudu",
        "outputId": "37d6f6ac-71cc-425b-ff27-ebe8f1dd96ed"
      },
      "execution_count": null,
      "outputs": [
        {
          "output_type": "stream",
          "name": "stdout",
          "text": [
            "set()\n"
          ]
        }
      ]
    },
    {
      "cell_type": "code",
      "source": [
        "\"\"\"\n",
        "Write a code to remove the element 4 from the set {1, 2, 3, 4}.\n",
        "\"\"\"\n",
        "my_set = {1, 2, 3, 4}\n",
        "my_set.remove(4)\n",
        "print(my_set)"
      ],
      "metadata": {
        "colab": {
          "base_uri": "https://localhost:8080/"
        },
        "id": "9ikn1FHROXQF",
        "outputId": "2ee21e5e-5457-4d70-d988-41c4841dca8b"
      },
      "execution_count": null,
      "outputs": [
        {
          "output_type": "stream",
          "name": "stdout",
          "text": [
            "{1, 2, 3}\n"
          ]
        }
      ]
    },
    {
      "cell_type": "code",
      "source": [
        "\"\"\"\n",
        "Write a code to find the union of two sets {1, 2, 3} and {3, 4, 5}.\n",
        "\"\"\"\n",
        "A = {1, 2, 3}\n",
        "B = {3, 4, 5}\n",
        "\n",
        "print(A.union(B))  # Combining both sets"
      ],
      "metadata": {
        "colab": {
          "base_uri": "https://localhost:8080/"
        },
        "id": "OwSoE1TOO6lg",
        "outputId": "5b195d8c-f130-4dd5-84f3-e9c6ccbfeb5f"
      },
      "execution_count": null,
      "outputs": [
        {
          "output_type": "stream",
          "name": "stdout",
          "text": [
            "{1, 2, 3, 4, 5}\n"
          ]
        }
      ]
    },
    {
      "cell_type": "code",
      "source": [
        "\"\"\"\n",
        "Write a code to find the intersection of two sets {1, 2, 3} and {2, 3, 4}.\n",
        "\"\"\"\n",
        "set1 = {1, 2, 3}\n",
        "set2 = {2, 3, 4}\n",
        "intersection = set_intersection(set1, set2)\n",
        "print(intersection)"
      ],
      "metadata": {
        "colab": {
          "base_uri": "https://localhost:8080/"
        },
        "id": "qzhN7mvTTtey",
        "outputId": "fd97eb26-e284-4637-c1b3-8d56ed092772"
      },
      "execution_count": null,
      "outputs": [
        {
          "output_type": "stream",
          "name": "stdout",
          "text": [
            "{2, 3}\n"
          ]
        }
      ]
    },
    {
      "cell_type": "code",
      "source": [
        "\"\"\"\n",
        "Write a code to create a dictionary with the keys \"name\", \"age\", and \"city\", and print it.\n",
        "\"\"\"\n",
        "d = {'name': 'Gourav', 'age': 30, 'city': 'jammu'}\n",
        "\n",
        "a = list(d.keys())\n",
        "\n",
        "print(a)"
      ],
      "metadata": {
        "colab": {
          "base_uri": "https://localhost:8080/"
        },
        "id": "TMVY63mrVcxx",
        "outputId": "8512c401-45db-4f98-f509-27c4551000e3"
      },
      "execution_count": null,
      "outputs": [
        {
          "output_type": "stream",
          "name": "stdout",
          "text": [
            "['name', 'age', 'city']\n"
          ]
        }
      ]
    },
    {
      "cell_type": "code",
      "source": [
        "\"\"\"\n",
        "Write a code to add a new key-value pair \"country\": \"USA\" to the dictionary {'name': 'John', 'age': 25}.\n",
        "\"\"\"\n",
        "my_dict = {\"name\": \"john\", \"age\": 25,}\n",
        "my_dict.update ({\"Country\":'USA'})\n",
        "print(my_dict)"
      ],
      "metadata": {
        "id": "9AW63lOLXmEh",
        "colab": {
          "base_uri": "https://localhost:8080/"
        },
        "outputId": "bfd05bbc-a2c5-4b80-c711-488c03a51f88"
      },
      "execution_count": null,
      "outputs": [
        {
          "output_type": "stream",
          "name": "stdout",
          "text": [
            "{'name': 'john', 'age': 25, 'Country': 'USA'}\n"
          ]
        }
      ]
    },
    {
      "cell_type": "code",
      "source": [
        "\"\"\"\n",
        "Write a code to access the value associated with the key \"name\" in the dictionary {'name': 'Alice', 'age': 30}.\n",
        "\"\"\"\n",
        "\n",
        "my_dict = {'name': 'Alice', 'age': 30}\n",
        "name_value = my_dict['name']\n",
        "print(name_value)"
      ],
      "metadata": {
        "colab": {
          "base_uri": "https://localhost:8080/"
        },
        "id": "M1GFF9RV8HiA",
        "outputId": "3959a321-85d7-458f-ec14-91eac234dd23"
      },
      "execution_count": null,
      "outputs": [
        {
          "output_type": "stream",
          "name": "stdout",
          "text": [
            "Alice\n"
          ]
        }
      ]
    },
    {
      "cell_type": "code",
      "source": [
        "\n",
        "\"\"\"\n",
        "Write a code to remove the key \"age\" from the dictionary {'name': 'Bob', 'age': 22, 'city': 'New York'}.\n",
        "\"\"\"\n",
        "my_dict = {\"name\": \"Bob\", \"age\": 22, 'city': 'new york' }\n",
        "removed_age = my_dict.pop(\"age\")\n",
        "print(my_dict)\n",
        "print(removed_age)"
      ],
      "metadata": {
        "colab": {
          "base_uri": "https://localhost:8080/"
        },
        "id": "pIxLP67B9vsY",
        "outputId": "3f15f508-4129-427c-a2bc-64d7295c5ace"
      },
      "execution_count": null,
      "outputs": [
        {
          "output_type": "stream",
          "name": "stdout",
          "text": [
            "{'name': 'Bob', 'city': 'new york'}\n",
            "22\n"
          ]
        }
      ]
    },
    {
      "cell_type": "code",
      "source": [
        "\"\"\"\n",
        "Write a code to check if the key \"city\" exists in the dictionary {'name': 'Alice', 'city': 'Paris'}.\n",
        "\"\"\"\n",
        "my_dict = {\"name\": \"Alice \", \"city\": \"New York\"}\n",
        "if \"city\" in my_dict:\n",
        "    print(my_dict[\"city\"])"
      ],
      "metadata": {
        "id": "pmAqxKWNtyhU",
        "colab": {
          "base_uri": "https://localhost:8080/"
        },
        "outputId": "b7649c68-432a-477c-953b-63e2b24498de"
      },
      "execution_count": null,
      "outputs": [
        {
          "output_type": "stream",
          "name": "stdout",
          "text": [
            "New York\n"
          ]
        }
      ]
    },
    {
      "cell_type": "code",
      "source": [
        "def multiply(a, b): return a* bprint(multiply(4,3))"
      ],
      "metadata": {
        "id": "UzG4xrBxRS3Z"
      },
      "execution_count": null,
      "outputs": []
    },
    {
      "cell_type": "code",
      "source": [
        "\"\"\"\n",
        "write a code to create a list of 5 random numbers between 1 and 100, sort it in ascending order, and print the result.(replaced)\n",
        "\"\"\"\n",
        "random_numbers = [random.randint(1, 100) for _ in range(5)]\n",
        "\n",
        "random_numbers.sort()e\n",
        "\n",
        "print(random_numbers)"
      ],
      "metadata": {
        "colab": {
          "base_uri": "https://localhost:8080/"
        },
        "id": "GUxGk5cLDXB_",
        "outputId": "06bc65dd-3c16-4553-a688-a1bf495a1f14"
      },
      "execution_count": null,
      "outputs": [
        {
          "output_type": "stream",
          "name": "stdout",
          "text": [
            "[3, 12, 25, 38, 61]\n"
          ]
        }
      ]
    },
    {
      "cell_type": "code",
      "source": [
        "\n",
        "\"\"\"\n",
        "Write a code to create a list with strings and print the element at the third index.\n",
        "\"\"\"\n",
        "l=[\"apple\",\"banana\",\"cherry\",\"dragon fruit\"]\n",
        "print(l[3])"
      ],
      "metadata": {
        "colab": {
          "base_uri": "https://localhost:8080/"
        },
        "id": "Eyd-zRkCGjr4",
        "outputId": "152da530-b590-4c5e-e96b-d88e2343e229"
      },
      "execution_count": null,
      "outputs": [
        {
          "output_type": "stream",
          "name": "stdout",
          "text": [
            "dragon fruit\n"
          ]
        }
      ]
    },
    {
      "cell_type": "code",
      "source": [
        "\"\"\"\n",
        "Write a code to combine two dictionaries into one and print the result.\n",
        "\"\"\"\n",
        "dict1 = {'a': 1, 'b': 2}\n",
        "dict2 = {'b': 3, 'c': 4}\n",
        "combined_dict = {**dict1, **dict2}\n",
        "print(combined_dict)"
      ],
      "metadata": {
        "colab": {
          "base_uri": "https://localhost:8080/"
        },
        "id": "5WLNBngUOKHB",
        "outputId": "7b9b3ad3-1777-474a-92fa-d5a0920704f8"
      },
      "execution_count": null,
      "outputs": [
        {
          "output_type": "stream",
          "name": "stdout",
          "text": [
            "{'a': 1, 'b': 3, 'c': 4}\n"
          ]
        }
      ]
    },
    {
      "cell_type": "code",
      "source": [
        "\"\"\"\n",
        "Write a code to convert a list of strings into a set.\n",
        "\"\"\"\n",
        "string_list = [\"apple\", \"banana\", \"apple\", \"orange\", \"banana\"]\n",
        "string_set = set(string_list)\n",
        "print(string_set)"
      ],
      "metadata": {
        "colab": {
          "base_uri": "https://localhost:8080/"
        },
        "id": "MIlUunYnUkPf",
        "outputId": "0f39a4ca-7030-428d-b781-ef3b617caaa7"
      },
      "execution_count": null,
      "outputs": [
        {
          "output_type": "stream",
          "name": "stdout",
          "text": [
            "{'apple', 'orange', 'banana'}\n"
          ]
        }
      ]
    },
    {
      "cell_type": "code",
      "source": [
        "def factorial(n):\n",
        "if n == 0:\n",
        "return 1   return n * factorial(n - 1)\n",
        "print(factorial(4))"
      ],
      "metadata": {
        "colab": {
          "base_uri": "https://localhost:8080/",
          "height": 159
        },
        "id": "3eTVnxeeCMzo",
        "outputId": "8d46755b-c1e3-4666-e718-ec30cbfed822"
      },
      "execution_count": null,
      "outputs": [
        {
          "output_type": "error",
          "ename": "IndentationError",
          "evalue": "expected an indented block after function definition on line 1 (<ipython-input-59-c3c17fe635cc>, line 2)",
          "traceback": [
            "\u001b[0;36m  File \u001b[0;32m\"<ipython-input-59-c3c17fe635cc>\"\u001b[0;36m, line \u001b[0;32m2\u001b[0m\n\u001b[0;31m    if n == 0:\u001b[0m\n\u001b[0m    ^\u001b[0m\n\u001b[0;31mIndentationError\u001b[0m\u001b[0;31m:\u001b[0m expected an indented block after function definition on line 1\n"
          ]
        }
      ]
    }
  ]
}